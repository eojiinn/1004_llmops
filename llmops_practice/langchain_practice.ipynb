{
 "cells": [
  {
   "cell_type": "code",
   "execution_count": 1,
   "metadata": {},
   "outputs": [],
   "source": [
    "import os\n",
    "import getpass\n",
    "from dotenv import load_dotenv\n",
    "import langgraph\n",
    "\n",
    "load_dotenv()\n",
    "\n",
    "langchain_tracing = os.getenv(\"LANGCHAIN_TRACING_V2\")\n",
    "langchain_api_key = os.getenv(\"LANGCHAIN_API_KEY\")\n",
    "aws_region = os.getenv(\"AWS_DEFAULT_REGION\")\n",
    "tavily_api_key = os.getenv(\"TAVILY_API_KEY\")"
   ]
  },
  {
   "cell_type": "markdown",
   "metadata": {},
   "source": [
    "Model"
   ]
  },
  {
   "cell_type": "code",
   "execution_count": 19,
   "metadata": {},
   "outputs": [],
   "source": [
    "from langchain_community.tools.tavily_search import TavilySearchResults\n",
    "\n",
    "search = TavilySearchResults(max_results=2)\n",
    "tools = [search]"
   ]
  },
  {
   "cell_type": "code",
   "execution_count": 29,
   "metadata": {},
   "outputs": [],
   "source": [
    "# 확인\n",
    "from langchain_aws import ChatBedrock\n",
    "from langchain_core.messages import HumanMessage\n",
    "\n",
    "# Bedrock 모델 설정\n",
    "model = ChatBedrock(\n",
    "    model_id=\"anthropic.claude-3-5-sonnet-20240620-v1:0\",\n",
    "    model_kwargs=dict(temperature=0)\n",
    ")\n",
    "\n",
    "# 모델 호출 확인\n",
    "# example_result = model.invoke([HumanMessage(content=\"다음 미국 대선 후보는 누구인가요?\")])\n",
    "# example_result"
   ]
  },
  {
   "cell_type": "markdown",
   "metadata": {},
   "source": [
    "Parser"
   ]
  },
  {
   "cell_type": "code",
   "execution_count": 21,
   "metadata": {},
   "outputs": [],
   "source": [
    "from langchain_core.output_parsers import StrOutputParser\n",
    "\n",
    "# 출력 파서 설정\n",
    "parser = StrOutputParser()\n",
    "\n",
    "# 파서 확인\n",
    "# parsed_result = parser.invoke(example_result)\n",
    "# print(parsed_result)  # 출력: '안녕!'"
   ]
  },
  {
   "cell_type": "markdown",
   "metadata": {},
   "source": [
    "Prompt Template"
   ]
  },
  {
   "cell_type": "code",
   "execution_count": 30,
   "metadata": {},
   "outputs": [],
   "source": [
    "from langchain_core.prompts import ChatPromptTemplate\n",
    "\n",
    "# 시스템 템플릿\n",
    "system_template = (\n",
    "    \"당신은 질문에 답하는 어시스턴트입니다. \"\n",
    "    \"다음 문서에서 제공된 내용을 사용하여 질문에 답변하세요. \"\n",
    "    \"모르면 모른다고 말하세요. 최대 세 문장으로 간결하게 답하세요.\"\n",
    "    \"\\\\n\\\\n\"\n",
    "    \"{context}\"\n",
    ")\n",
    "\n",
    "# 프롬프트 템플릿\n",
    "prompt_template = ChatPromptTemplate.from_messages(\n",
    "    [\n",
    "        (\"system\", system_template), \n",
    "        (\"user\", \"{input}\"),\n",
    "    ]\n",
    ")\n",
    "\n",
    "# # 템플릿 호출\n",
    "# prompt_result = prompt_template.invoke()\n",
    "# print(prompt_result.to_messages())"
   ]
  },
  {
   "cell_type": "markdown",
   "metadata": {},
   "source": [
    "pdf"
   ]
  },
  {
   "cell_type": "code",
   "execution_count": 31,
   "metadata": {},
   "outputs": [],
   "source": [
    "from langchain_community.document_loaders import PyPDFLoader\n",
    "\n",
    "# PDF 파일 경로 설정\n",
    "file_path = \"./nike-10k-2023.pdf\"\n",
    "\n",
    "# PyPDFLoader를 사용하여 PDF 파일 로드\n",
    "loader = PyPDFLoader(file_path)\n",
    "\n",
    "# PDF 문서를 로드하고 각 페이지의 내용을 저장\n",
    "docs = loader.load()"
   ]
  },
  {
   "cell_type": "code",
   "execution_count": null,
   "metadata": {},
   "outputs": [],
   "source": [
    "from langchain_aws import BedrockEmbeddings\n",
    "from langchain_core.vectorstores import InMemoryVectorStore\n",
    "from langchain_text_splitters import RecursiveCharacterTextSplitter\n",
    "\n",
    "# 텍스트 스플리터 설정 (1000자 단위로 문서를 나누고, 중첩 200자 적용)\n",
    "text_splitter = RecursiveCharacterTextSplitter(chunk_size=1000, chunk_overlap=200)\n",
    "splits = text_splitter.split_documents(docs)\n",
    "\n",
    "# 벡터 스토어에 임베딩 적용 및 문서 저장\n",
    "vectorstore = InMemoryVectorStore.from_documents(\n",
    "    documents=splits, embedding=BedrockEmbeddings(\n",
    "        model_id='amazon.titan-embed-text-v1',\n",
    "    )\n",
    ")\n",
    "\n",
    "# 리트리버 생성\n",
    "# retriever = vectorstore.as_retriever()"
   ]
  },
  {
   "cell_type": "code",
   "execution_count": 33,
   "metadata": {},
   "outputs": [],
   "source": [
    "from langgraph.graph import START, MessagesState, StateGraph\n",
    "from langchain.chains import create_retrieval_chain\n",
    "from langchain.chains.combine_documents import create_stuff_documents_chain\n",
    "\n",
    "def create_qna_chain(model, prompt_template, parser):\n",
    "    return prompt_template | model | parser\n",
    "qna_chain = create_qna_chain(model, prompt_template, parser)\n",
    "rag_chain = create_retrieval_chain(retriever, qna_chain)\n"
   ]
  },
  {
   "cell_type": "code",
   "execution_count": 39,
   "metadata": {},
   "outputs": [
    {
     "data": {
      "text/plain": [
       "'죄송합니다만, 이전에 어떤 질문을 하셨는지에 대한 정보가 주어진 문서에 없습니다. 제가 이전 대화 내용을 알지 못하기 때문에 귀하의 이전 질문을 확인할 수 없습니다.'"
      ]
     },
     "execution_count": 39,
     "metadata": {},
     "output_type": "execute_result"
    }
   ],
   "source": [
    "results = rag_chain.invoke({\"input\": \"내가 무슨 질문을 했었지?\"})\n",
    "results['answer']"
   ]
  },
  {
   "cell_type": "code",
   "execution_count": 43,
   "metadata": {},
   "outputs": [
    {
     "name": "stdout",
     "output_type": "stream",
     "text": [
      "{'agent': {'messages': [AIMessage(content='', additional_kwargs={'usage': {'prompt_tokens': 417, 'completion_tokens': 109, 'total_tokens': 526}, 'stop_reason': 'tool_use', 'model_id': 'anthropic.claude-3-5-sonnet-20240620-v1:0'}, response_metadata={'usage': {'prompt_tokens': 417, 'completion_tokens': 109, 'total_tokens': 526}, 'stop_reason': 'tool_use', 'model_id': 'anthropic.claude-3-5-sonnet-20240620-v1:0'}, id='run-1790042a-99cd-47ea-b5aa-b7e987a41187-0', tool_calls=[{'name': 'tavily_search_results_json', 'args': {'query': '삼성전자 현재 주가'}, 'id': 'toolu_bdrk_01WDZkHvuMo32dHLNLtZ8izL', 'type': 'tool_call'}], usage_metadata={'input_tokens': 417, 'output_tokens': 109, 'total_tokens': 526})]}}\n",
      "----\n",
      "{'tools': {'messages': [ToolMessage(content='[{\"url\": \"https://www.yna.co.kr/view/AKR20211231126500002\", \"content\": \"삼성전자 주가는 2021년 연간 수익률 마이너스로 부진하며 7만원대로 마무리했다. 그러나 2022년에는 메모리 반도체 업사이클에 힘입어 목표주가를 10만원에서 12만원으로 올리는 증권가들의 의견이 많다.\"}, {\"url\": \"https://alphasquare.co.kr/home/stock-summary?code=005930\", \"content\": \"삼성전자의 현재가, 변동량, 거래량, 시가총액, 매출액, 영업이익, 순이익 등의 주가 및 종목 정보를 실시간으로 제공합니다. 삼성전자의 기업 개요, 투자자별 매매동향, 주요 기업\"}]', name='tavily_search_results_json', id='388cfa92-451f-4794-9f8c-2ff80ed91a14', tool_call_id='toolu_bdrk_01WDZkHvuMo32dHLNLtZ8izL', artifact={'query': '삼성전자 현재 주가', 'follow_up_questions': None, 'answer': None, 'images': [], 'results': [{'title': \"삼성전자 새해 '10만전자' 갈까…목표가 최고 12만원 | 연합뉴스\", 'url': 'https://www.yna.co.kr/view/AKR20211231126500002', 'content': '삼성전자 주가는 2021년 연간 수익률 마이너스로 부진하며 7만원대로 마무리했다. 그러나 2022년에는 메모리 반도체 업사이클에 힘입어 목표주가를 10만원에서 12만원으로 올리는 증권가들의 의견이 많다.', 'score': 0.99851626, 'raw_content': None}, {'title': '삼성전자 주가 - 실시간 차트 및 종목정보', 'url': 'https://alphasquare.co.kr/home/stock-summary?code=005930', 'content': '삼성전자의 현재가, 변동량, 거래량, 시가총액, 매출액, 영업이익, 순이익 등의 주가 및 종목 정보를 실시간으로 제공합니다. 삼성전자의 기업 개요, 투자자별 매매동향, 주요 기업', 'score': 0.99711037, 'raw_content': None}], 'response_time': 1.6})]}}\n",
      "----\n",
      "{'agent': {'messages': [AIMessage(content='삼성전자의 주가에 대해 최신 정보를 찾아보았습니다. 현재 실시간 주가를 정확히 알려드리기는 어렵지만, 최근 동향과 전망에 대해 말씀드리겠습니다.\\n\\n1. 과거 동향:\\n   - 2021년 말, 삼성전자 주가는 7만원대로 마무리되었으며, 연간 수익률은 마이너스를 기록했습니다.\\n\\n2. 향후 전망:\\n   - 2022년에는 메모리 반도체 업사이클의 영향으로 주가 상승이 예상되었습니다.\\n   - 많은 증권사들이 삼성전자의 목표주가를 10만원에서 12만원으로 상향 조정했습니다.\\n\\n3. 현재 정보:\\n   - 삼성전자의 실시간 주가, 변동량, 거래량, 시가총액 등의 정보는 주식 정보 제공 사이트에서 확인할 수 있습니다.\\n   - 이러한 정보는 실시간으로 변동되므로, 가장 정확한 현재 주가를 알고 싶으시다면 주식 거래 플랫폼이나 금융 정보 사이트를 직접 확인하시는 것이 좋습니다.\\n\\n4. 기타 정보:\\n   - 삼성전자의 매출액, 영업이익, 순이익 등의 재무 정보도 투자 결정에 중요한 요소가 될 수 있습니다.\\n   - 투자자별 매매동향 등의 정보도 주가 변동에 영향을 줄 수 있는 요소입니다.\\n\\n주식 시장은 매우 변동성이 크고 여러 요인에 의해 영향을 받기 때문에, 투자 결정을 내리실 때는 항상 최신 정보를 확인하시고 전문가의 조언을 구하는 것이 좋습니다.', additional_kwargs={'usage': {'prompt_tokens': 771, 'completion_tokens': 636, 'total_tokens': 1407}, 'stop_reason': 'end_turn', 'model_id': 'anthropic.claude-3-5-sonnet-20240620-v1:0'}, response_metadata={'usage': {'prompt_tokens': 771, 'completion_tokens': 636, 'total_tokens': 1407}, 'stop_reason': 'end_turn', 'model_id': 'anthropic.claude-3-5-sonnet-20240620-v1:0'}, id='run-1d89ab7e-401e-49ea-9cda-245f50c60f9c-0', usage_metadata={'input_tokens': 771, 'output_tokens': 636, 'total_tokens': 1407})]}}\n",
      "----\n",
      "{'agent': {'messages': [AIMessage(content='죄송합니다만, 이전 대화 내용에 대한 정보가 제게 없습니다. 우리의 대화는 방금 시작되었고, 제가 알고 있는 유일한 질문은 방금 하신 \"삼성전자 주가가 어떻게 되나요?\"입니다. \\n\\n이전에 다른 질문을 하셨다면, 그 내용은 새로운 대화 세션이 시작되면서 지워졌을 가능성이 있습니다. 제가 이전 대화 내용을 기억하지 못해 죄송합니다.\\n\\n혹시 특정 주제나 정보에 대해 더 자세히 알고 싶으신 것이 있다면, 언제든 새로운 질문을 해 주시면 최선을 다해 답변 드리겠습니다.', additional_kwargs={'usage': {'prompt_tokens': 1427, 'completion_tokens': 269, 'total_tokens': 1696}, 'stop_reason': 'end_turn', 'model_id': 'anthropic.claude-3-5-sonnet-20240620-v1:0'}, response_metadata={'usage': {'prompt_tokens': 1427, 'completion_tokens': 269, 'total_tokens': 1696}, 'stop_reason': 'end_turn', 'model_id': 'anthropic.claude-3-5-sonnet-20240620-v1:0'}, id='run-aa870476-b613-46d6-9a81-5d0bdcf66518-0', usage_metadata={'input_tokens': 1427, 'output_tokens': 269, 'total_tokens': 1696})]}}\n",
      "----\n"
     ]
    }
   ],
   "source": [
    "from langgraph.checkpoint.memory import MemorySaver\n",
    "from langgraph.prebuilt import create_react_agent\n",
    "\n",
    "memory = MemorySaver()\n",
    "\n",
    "agent_executor = create_react_agent(model, tools, checkpointer=memory)\n",
    "\n",
    "config = {\"configurable\": {\"thread_id\": \"abc123\"}}\n",
    "\n",
    "for chunk in agent_executor.stream(\n",
    "    {\"messages\": [HumanMessage(content=\"삼성전자 주가가 어떻게 되나요?\")]}, config\n",
    "):\n",
    "    print(chunk)\n",
    "    print(\"----\")\n",
    "\n",
    "for chunk in agent_executor.stream(\n",
    "    {\"messages\": [HumanMessage(content=\"내가 전에 뭐 물어봤지?\")]}, config\n",
    "):\n",
    "    print(chunk)\n",
    "    print(\"----\")"
   ]
  },
  {
   "cell_type": "code",
   "execution_count": null,
   "metadata": {},
   "outputs": [],
   "source": []
  }
 ],
 "metadata": {
  "kernelspec": {
   "display_name": ".venv",
   "language": "python",
   "name": "python3"
  },
  "language_info": {
   "codemirror_mode": {
    "name": "ipython",
    "version": 3
   },
   "file_extension": ".py",
   "mimetype": "text/x-python",
   "name": "python",
   "nbconvert_exporter": "python",
   "pygments_lexer": "ipython3",
   "version": "3.10.12"
  }
 },
 "nbformat": 4,
 "nbformat_minor": 2
}
